{
 "cells": [
  {
   "cell_type": "code",
   "execution_count": 1,
   "metadata": {
    "ExecuteTime": {
     "end_time": "2020-05-10T16:53:53.346023Z",
     "start_time": "2020-05-10T16:53:51.786347Z"
    }
   },
   "outputs": [
    {
     "name": "stderr",
     "output_type": "stream",
     "text": [
      "\n",
      "Bad key \"text.kerning_factor\" on line 4 in\n",
      "/opt/anaconda/lib/python3.6/site-packages/matplotlib/mpl-data/stylelib/_classic_test_patch.mplstyle.\n",
      "You probably need to get an updated matplotlibrc file from\n",
      "https://github.com/matplotlib/matplotlib/blob/v3.1.3/matplotlibrc.template\n",
      "or from the matplotlib source distribution\n"
     ]
    }
   ],
   "source": [
    "import pandas as pd\n",
    "import numpy as np\n",
    "from sklearn.decomposition import PCA\n",
    "import seaborn as sns\n",
    "import matplotlib.pyplot as plt\n",
    "import joblib\n",
    "import torch\n",
    "import json"
   ]
  },
  {
   "cell_type": "code",
   "execution_count": 2,
   "metadata": {
    "ExecuteTime": {
     "end_time": "2020-05-10T16:54:00.367209Z",
     "start_time": "2020-05-10T16:53:53.349220Z"
    }
   },
   "outputs": [
    {
     "name": "stdout",
     "output_type": "stream",
     "text": [
      "--2020-05-10 12:53:53--  https://snap.stanford.edu/data/web-redditEmbeddings-subreddits.csv\n",
      "Resolving snap.stanford.edu (snap.stanford.edu)... 171.64.75.80\n",
      "Connecting to snap.stanford.edu (snap.stanford.edu)|171.64.75.80|:443... connected.\n",
      "HTTP request sent, awaiting response... 200 OK\n",
      "Length: 144814301 (138M) [text/csv]\n",
      "Saving to: ‘/shared/0/projects/prosocial/data/finalized/subreddits/web-redditEmbeddings-subreddits.csv’\n",
      "\n",
      "/shared/0/projects/ 100%[===================>] 138.11M  33.4MB/s    in 5.6s    \n",
      "\n",
      "2020-05-10 12:53:59 (24.5 MB/s) - ‘/shared/0/projects/prosocial/data/finalized/subreddits/web-redditEmbeddings-subreddits.csv’ saved [144814301/144814301]\n",
      "\n"
     ]
    }
   ],
   "source": [
    "# download subreddit embedding\n",
    "!wget --output-document=/shared/0/projects/prosocial/data/finalized/subreddits/web-redditEmbeddings-subreddits.csv \\\n",
    "https://snap.stanford.edu/data/web-redditEmbeddings-subreddits.csv "
   ]
  },
  {
   "cell_type": "code",
   "execution_count": 3,
   "metadata": {
    "ExecuteTime": {
     "end_time": "2020-05-10T16:54:02.691130Z",
     "start_time": "2020-05-10T16:54:00.371971Z"
    }
   },
   "outputs": [],
   "source": [
    "vector_id = list(range(300))\n",
    "header = ['Subreddit_ID'] + vector_id\n",
    "df = pd.read_csv('/shared/0/projects/prosocial/data/finalized/subreddits/web-redditEmbeddings-subreddits.csv', names=header)"
   ]
  },
  {
   "cell_type": "code",
   "execution_count": 4,
   "metadata": {
    "ExecuteTime": {
     "end_time": "2020-05-10T16:54:04.026700Z",
     "start_time": "2020-05-10T16:54:02.693200Z"
    }
   },
   "outputs": [
    {
     "name": "stdout",
     "output_type": "stream",
     "text": [
      "Explained variance : [0.16778141 0.10715389 0.09070878 0.05805875 0.04227539 0.03736818\n",
      " 0.03690971 0.02893538 0.02465739 0.02227205 0.02180225 0.02009905\n",
      " 0.01720723 0.016797   0.015455   0.01442191]\n",
      "Total Explained variance : 0.7219033696098933\n"
     ]
    }
   ],
   "source": [
    "M = df[vector_id].values\n",
    "pca = PCA(n_components=16)\n",
    "pca.fit(M)\n",
    "print(f\"Explained variance : {pca.explained_variance_ratio_}\")\n",
    "print(f\"Total Explained variance : {sum(pca.explained_variance_ratio_)}\")"
   ]
  },
  {
   "cell_type": "code",
   "execution_count": 5,
   "metadata": {
    "ExecuteTime": {
     "end_time": "2020-05-10T16:54:04.043067Z",
     "start_time": "2020-05-10T16:54:04.029843Z"
    }
   },
   "outputs": [],
   "source": [
    "def single_plot_fig(labels, singluar_values, title, log=False):\n",
    "    if log:\n",
    "        singluar_values = np.log(singluar_values)\n",
    "    data_zipped = [tuple(x) for x in zip(labels, singluar_values)]\n",
    "    df = pd.DataFrame(data_zipped,\n",
    "                  columns=[\"PC\", \"% variance explained\"])\n",
    "    sns.set(style=\"whitegrid\")\n",
    "\n",
    "    # Initialize the matplotlib figure\n",
    "    f, ax = plt.subplots(figsize=(6, 15))\n",
    "    \n",
    "    # Plot the total crashes\n",
    "    sns.set_color_codes(\"pastel\")\n",
    "    sns.barplot(x=\"% variance explained\", y=\"PC\", data=df,\n",
    "            label=title, ci=None)\n",
    "    # Add a legend and informative axis label\n",
    "    ax.legend(ncol=2, loc=\"lower right\", frameon=True)\n",
    "    ax.set(ylabel=\"converation outcomes\", xlabel=title)\n",
    "    sns.despine(left=True, bottom=True)"
   ]
  },
  {
   "cell_type": "code",
   "execution_count": 6,
   "metadata": {
    "ExecuteTime": {
     "end_time": "2020-05-10T16:54:04.477156Z",
     "start_time": "2020-05-10T16:54:04.045479Z"
    }
   },
   "outputs": [
    {
     "data": {
      "image/png": "[encoded data removed]",
      "text/plain": [
       "<Figure size 432x1080 with 1 Axes>"
      ]
     },
     "metadata": {},
     "output_type": "display_data"
    }
   ],
   "source": [
    "PC_labels = [f'PC{i}' for i in range(16)]\n",
    "single_plot_fig(PC_labels, pca.explained_variance_ratio_, '% variance explained', False)"
   ]
  },
  {
   "cell_type": "code",
   "execution_count": 7,
   "metadata": {
    "ExecuteTime": {
     "end_time": "2020-05-10T16:54:04.491915Z",
     "start_time": "2020-05-10T16:54:04.480002Z"
    }
   },
   "outputs": [
    {
     "data": {
      "text/plain": [
       "['/shared/0/projects/prosocial/data/finalized/subreddits/subreddits.pca.pth.tar']"
      ]
     },
     "execution_count": 7,
     "metadata": {},
     "output_type": "execute_result"
    }
   ],
   "source": [
    "joblib.dump(pca, \"/shared/0/projects/prosocial/data/finalized/subreddits/subreddits.pca.pth.tar\")"
   ]
  },
  {
   "cell_type": "code",
   "execution_count": 8,
   "metadata": {
    "ExecuteTime": {
     "end_time": "2020-05-10T16:54:04.589850Z",
     "start_time": "2020-05-10T16:54:04.495668Z"
    }
   },
   "outputs": [],
   "source": [
    "principle_embeddings = pca.transform(M)"
   ]
  },
  {
   "cell_type": "code",
   "execution_count": 9,
   "metadata": {
    "ExecuteTime": {
     "end_time": "2020-05-10T16:54:04.676093Z",
     "start_time": "2020-05-10T16:54:04.593336Z"
    }
   },
   "outputs": [],
   "source": [
    "principle_subreddit_embeddings_lookup = dict(zip(df['Subreddit_ID'].values, principle_embeddings))"
   ]
  },
  {
   "cell_type": "code",
   "execution_count": 10,
   "metadata": {
    "ExecuteTime": {
     "end_time": "2020-05-10T16:54:04.702368Z",
     "start_time": "2020-05-10T16:54:04.677990Z"
    }
   },
   "outputs": [
    {
     "name": "stdout",
     "output_type": "stream",
     "text": [
      "mean: -6.096938330949804e-18 std: 0.49006673683348717\n"
     ]
    }
   ],
   "source": [
    "print(f'mean: {principle_embeddings.mean()} std: {principle_embeddings.std()}')"
   ]
  },
  {
   "cell_type": "code",
   "execution_count": 11,
   "metadata": {
    "ExecuteTime": {
     "end_time": "2020-05-10T16:54:04.726846Z",
     "start_time": "2020-05-10T16:54:04.704879Z"
    }
   },
   "outputs": [
    {
     "name": "stdout",
     "output_type": "stream",
     "text": [
      "number of subreddits embeddings we need: 11993\n"
     ]
    }
   ],
   "source": [
    "with open('/shared/0/projects/prosocial/data/finalized/subreddit_mappings.json', 'r') as istream:\n",
    "    my_subreddits = json.load(istream)\n",
    "print(f'number of subreddits embeddings we need: {len(my_subreddits)}')"
   ]
  },
  {
   "cell_type": "code",
   "execution_count": 12,
   "metadata": {
    "ExecuteTime": {
     "end_time": "2020-05-10T16:54:04.742576Z",
     "start_time": "2020-05-10T16:54:04.729232Z"
    }
   },
   "outputs": [],
   "source": [
    "# ensure that there is no missing values\n",
    "assert sorted(list(my_subreddits.values())) == sorted(list(range(11993)))"
   ]
  },
  {
   "cell_type": "code",
   "execution_count": 13,
   "metadata": {
    "ExecuteTime": {
     "end_time": "2020-05-10T16:54:04.873442Z",
     "start_time": "2020-05-10T16:54:04.745375Z"
    }
   },
   "outputs": [
    {
     "name": "stdout",
     "output_type": "stream",
     "text": [
      "used pretrained embeddings / total: 5278 / 11993\n"
     ]
    }
   ],
   "source": [
    "num_subreddit_embeddings = len(my_subreddits)\n",
    "subreddit_embeddings_dim = 16\n",
    "\n",
    "embeddings = torch.zeros((num_subreddit_embeddings, subreddit_embeddings_dim), dtype=torch.float32)\n",
    "\n",
    "torch.manual_seed(42)\n",
    "torch.nn.init.normal_(embeddings, mean=principle_embeddings.mean(), std=principle_embeddings.std())\n",
    "\n",
    "used_subreddits = []\n",
    "for k, v in my_subreddits.items():\n",
    "    if k in principle_subreddit_embeddings_lookup:\n",
    "        embeddings[v] = torch.from_numpy(principle_subreddit_embeddings_lookup[k]).to(torch.float32)\n",
    "        used_subreddits.append(k)\n",
    "print(f'used pretrained embeddings / total: {len(used_subreddits)} / {len(my_subreddits)}')\n"
   ]
  },
  {
   "cell_type": "code",
   "execution_count": 14,
   "metadata": {
    "ExecuteTime": {
     "end_time": "2020-05-10T16:54:04.902363Z",
     "start_time": "2020-05-10T16:54:04.875621Z"
    }
   },
   "outputs": [],
   "source": [
    "torch.save(embeddings, \n",
    "           '/shared/0/projects/prosocial/data/finalized/subreddits/pretrained_subreddit_embeddings.tar.pth')"
   ]
  },
  {
   "cell_type": "code",
   "execution_count": null,
   "metadata": {},
   "outputs": [],
   "source": []
  }
 ],
 "metadata": {
  "kernelspec": {
   "display_name": "Python 3",
   "language": "python",
   "name": "python3"
  },
  "language_info": {
   "codemirror_mode": {
    "name": "ipython",
    "version": 3
   },
   "file_extension": ".py",
   "mimetype": "text/x-python",
   "name": "python",
   "nbconvert_exporter": "python",
   "pygments_lexer": "ipython3",
   "version": "3.6.8"
  },
  "toc": {
   "base_numbering": 1,
   "nav_menu": {},
   "number_sections": true,
   "sideBar": true,
   "skip_h1_title": false,
   "title_cell": "Table of Contents",
   "title_sidebar": "Contents",
   "toc_cell": false,
   "toc_position": {},
   "toc_section_display": true,
   "toc_window_display": false
  }
 },
 "nbformat": 4,
 "nbformat_minor": 2
}
