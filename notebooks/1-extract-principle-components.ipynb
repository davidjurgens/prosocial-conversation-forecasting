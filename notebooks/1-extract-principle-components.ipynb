{
 "cells": [
  {
   "cell_type": "code",
   "execution_count": 1,
   "metadata": {
    "ExecuteTime": {
     "end_time": "2020-05-20T16:08:16.090838Z",
     "start_time": "2020-05-20T16:08:15.630174Z"
    }
   },
   "outputs": [],
   "source": [
    "# from sklearn.decomposition import PCA\n",
    "import pandas as pd\n",
    "import joblib\n",
    "from pathlib import Path"
   ]
  },
  {
   "cell_type": "code",
   "execution_count": 2,
   "metadata": {
    "ExecuteTime": {
     "end_time": "2020-05-20T16:08:16.097285Z",
     "start_time": "2020-05-20T16:08:16.093392Z"
    }
   },
   "outputs": [],
   "source": [
    "mode = 'test'\n",
    "ROOT_DIR = Path(\"/shared/0/projects/prosocial/data/finalized/dataframes\")\n",
    "input_path = ROOT_DIR / f\"{mode}_metrics.tsv\"\n",
    "output_path = ROOT_DIR / f\"{mode}_principle_values.tsv\"\n",
    "pca_path = ROOT_DIR / \"pca.pth.tar\""
   ]
  },
  {
   "cell_type": "code",
   "execution_count": 3,
   "metadata": {
    "ExecuteTime": {
     "end_time": "2020-05-20T16:16:02.532702Z",
     "start_time": "2020-05-20T16:08:16.099416Z"
    }
   },
   "outputs": [],
   "source": [
    "# I/O\n",
    "metrics = [\n",
    "        'Replies_informative_count', 'Replies_links_count', 'Replies_max_depth', 'Replies_sum_score',\n",
    "        'Replies_total_number', 'Top_comment_article_accommodation', 'Top_comment_certain_accommodation',\n",
    "        'Top_comment_conj_accommodation', 'Top_comment_discrep_accommodation', 'Top_comment_excl_accommodation',\n",
    "        'Top_comment_incl_accommodation', 'Top_comment_ipron_accommodation', 'Top_comment_negate_accommodation',\n",
    "        'Top_comment_quant_accommodation', 'Top_comment_tentat_accommodation', 'Replies_advice_count',\n",
    "        'Replies_laughter_count', 'Replies_gratitude_count', 'Replies_informative_URL_count',\n",
    "        'Replies_i_language_count', 'Replies_compliments_count', 'Replies_untuned_toxicity_children_count',\n",
    "        'Top_comment_direct_children', 'Replies_distinct_pairs_of_sustained_conversation',\n",
    "        'Replies_max_turns_of_sustained_conversations', 'Replies_untuned_non_toxic_percentage'\n",
    "]  # 26 metrics\n",
    "\n",
    "df = pd.read_csv(input_path, usecols=[\"Top_comment_id\"] + metrics, sep=\"\\t\")\n",
    "M = df[metrics].values\n",
    "\n",
    "# load svd checkponts\n",
    "pca = joblib.load(pca_path)\n",
    "# transform\n",
    "pc_values = pca.transform(M)\n",
    "# convert to dataframe\n",
    "pc_df = pd.DataFrame(pc_values)\n",
    "# rename dataframe name into PC0, PC1, ...\n",
    "pc_df.columns = [f\"PC{x}\" for x in list(pc_df.columns)]\n",
    "results = pd.concat((df[\"Top_comment_id\"], pc_df), axis=1)\n",
    "# I/O\n",
    "results.to_csv(output_path, sep='\\t', index=False)"
   ]
  },
  {
   "cell_type": "code",
   "execution_count": null,
   "metadata": {},
   "outputs": [],
   "source": []
  }
 ],
 "metadata": {
  "kernelspec": {
   "display_name": "shared",
   "language": "python",
   "name": "shared"
  },
  "language_info": {
   "codemirror_mode": {
    "name": "ipython",
    "version": 3
   },
   "file_extension": ".py",
   "mimetype": "text/x-python",
   "name": "python",
   "nbconvert_exporter": "python",
   "pygments_lexer": "ipython3",
   "version": "3.6.8"
  },
  "toc": {
   "base_numbering": 1,
   "nav_menu": {},
   "number_sections": true,
   "sideBar": true,
   "skip_h1_title": false,
   "title_cell": "Table of Contents",
   "title_sidebar": "Contents",
   "toc_cell": false,
   "toc_position": {},
   "toc_section_display": true,
   "toc_window_display": false
  }
 },
 "nbformat": 4,
 "nbformat_minor": 2
}
